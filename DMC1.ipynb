{
  "nbformat": 4,
  "nbformat_minor": 0,
  "metadata": {
    "colab": {
      "name": "DMC1.ipynb",
      "provenance": [],
      "collapsed_sections": []
    },
    "kernelspec": {
      "name": "python3",
      "display_name": "Python 3"
    },
    "language_info": {
      "name": "python"
    }
  },
  "cells": [
    {
      "cell_type": "code",
      "metadata": {
        "colab": {
          "base_uri": "https://localhost:8080/"
        },
        "id": "rQI7KPebLmhv",
        "outputId": "2a184fcf-6197-42e4-92c8-650a9d58cfc5"
      },
      "source": [
        "from google.colab import drive\n",
        "drive.mount('/content/drive')"
      ],
      "execution_count": null,
      "outputs": [
        {
          "output_type": "stream",
          "text": [
            "Drive already mounted at /content/drive; to attempt to forcibly remount, call drive.mount(\"/content/drive\", force_remount=True).\n"
          ],
          "name": "stdout"
        }
      ]
    },
    {
      "cell_type": "code",
      "metadata": {
        "id": "4OZ6Odm4MeBl"
      },
      "source": [
        "import pandas as pd\n",
        "import numpy as np"
      ],
      "execution_count": null,
      "outputs": []
    },
    {
      "cell_type": "code",
      "metadata": {
        "id": "mZ1AcewsM3oV"
      },
      "source": [
        "item = pd.read_csv('/content/drive/MyDrive/DMC_2020/DMC_2020/items.csv',sep = '|')\n",
        "tr = pd.read_csv('/content/drive/MyDrive/DMC_2020/DMC_2020/transactions.csv',sep = '|')\n",
        "tr.columns = ['sessionID', 'itemID', 'click', 'basket', 'order']\n",
        "eval = pd.read_csv('/content/drive/MyDrive/DMC_2020/DMC_2020/evaluation.csv',sep = '|')\n",
        "eval.columns = ['itemID']"
      ],
      "execution_count": null,
      "outputs": []
    },
    {
      "cell_type": "code",
      "metadata": {
        "colab": {
          "base_uri": "https://localhost:8080/",
          "height": 424
        },
        "id": "ezgp4KElM5w5",
        "outputId": "f7b8cc0b-9f62-4c49-ea6b-4d1cb914fca4"
      },
      "source": [
        "item"
      ],
      "execution_count": null,
      "outputs": [
        {
          "output_type": "execute_result",
          "data": {
            "text/html": [
              "<div>\n",
              "<style scoped>\n",
              "    .dataframe tbody tr th:only-of-type {\n",
              "        vertical-align: middle;\n",
              "    }\n",
              "\n",
              "    .dataframe tbody tr th {\n",
              "        vertical-align: top;\n",
              "    }\n",
              "\n",
              "    .dataframe thead th {\n",
              "        text-align: right;\n",
              "    }\n",
              "</style>\n",
              "<table border=\"1\" class=\"dataframe\">\n",
              "  <thead>\n",
              "    <tr style=\"text-align: right;\">\n",
              "      <th></th>\n",
              "      <th>itemID</th>\n",
              "      <th>title</th>\n",
              "      <th>author</th>\n",
              "      <th>publisher</th>\n",
              "      <th>main topic</th>\n",
              "      <th>subtopics</th>\n",
              "    </tr>\n",
              "  </thead>\n",
              "  <tbody>\n",
              "    <tr>\n",
              "      <th>0</th>\n",
              "      <td>21310</td>\n",
              "      <td>Princess Poppy: The Big Mix Up</td>\n",
              "      <td>Janey Louise Jones</td>\n",
              "      <td>Penguin Random House Children's UK</td>\n",
              "      <td>YFB</td>\n",
              "      <td>[5AH]</td>\n",
              "    </tr>\n",
              "    <tr>\n",
              "      <th>1</th>\n",
              "      <td>73018</td>\n",
              "      <td>Einfach zeichnen! Step by Step</td>\n",
              "      <td>Wiebke Krabbe</td>\n",
              "      <td>Schwager und Steinlein</td>\n",
              "      <td>AGZ</td>\n",
              "      <td>[5AJ,AGZ,WFA,YBG,YBL,YNA,YPA]</td>\n",
              "    </tr>\n",
              "    <tr>\n",
              "      <th>2</th>\n",
              "      <td>19194</td>\n",
              "      <td>Red Queen 1</td>\n",
              "      <td>Victoria Aveyard</td>\n",
              "      <td>Orion Publishing Group</td>\n",
              "      <td>YFH</td>\n",
              "      <td>[5AP,FBA]</td>\n",
              "    </tr>\n",
              "    <tr>\n",
              "      <th>3</th>\n",
              "      <td>40250</td>\n",
              "      <td>Meine Kindergarten-Freunde (Pirat)</td>\n",
              "      <td>NaN</td>\n",
              "      <td>Ars Edition GmbH</td>\n",
              "      <td>YB</td>\n",
              "      <td>[5AC,5AD,YBG,YBL,YF]</td>\n",
              "    </tr>\n",
              "    <tr>\n",
              "      <th>4</th>\n",
              "      <td>46107</td>\n",
              "      <td>Mein großes Schablonen-Buch - Wilde Tiere</td>\n",
              "      <td>Elizabeth Golding</td>\n",
              "      <td>Edition Michael Fischer</td>\n",
              "      <td>WFTM</td>\n",
              "      <td>[WD,WFTM,YBG,YBL,YBLD,YBLN1]</td>\n",
              "    </tr>\n",
              "    <tr>\n",
              "      <th>...</th>\n",
              "      <td>...</td>\n",
              "      <td>...</td>\n",
              "      <td>...</td>\n",
              "      <td>...</td>\n",
              "      <td>...</td>\n",
              "      <td>...</td>\n",
              "    </tr>\n",
              "    <tr>\n",
              "      <th>78025</th>\n",
              "      <td>37678</td>\n",
              "      <td>Timeless Fairy Tales</td>\n",
              "      <td>Brothers Grimm, Marie-Catherine Baroness D'Aulnoy</td>\n",
              "      <td>MEDIAMORPHOSIS</td>\n",
              "      <td>YFA</td>\n",
              "      <td>[YFJ]</td>\n",
              "    </tr>\n",
              "    <tr>\n",
              "      <th>78026</th>\n",
              "      <td>68688</td>\n",
              "      <td>Demon Games</td>\n",
              "      <td>A. Witt Timothy a. Witt</td>\n",
              "      <td>iUniverse</td>\n",
              "      <td>FMB</td>\n",
              "      <td>[]</td>\n",
              "    </tr>\n",
              "    <tr>\n",
              "      <th>78027</th>\n",
              "      <td>57291</td>\n",
              "      <td>Lori and the Lion's Den</td>\n",
              "      <td>A. M. Glass</td>\n",
              "      <td>Xlibris</td>\n",
              "      <td>YFU</td>\n",
              "      <td>[]</td>\n",
              "    </tr>\n",
              "    <tr>\n",
              "      <th>78028</th>\n",
              "      <td>78130</td>\n",
              "      <td>The Everywhere Armchair</td>\n",
              "      <td>Ersila Bee</td>\n",
              "      <td>ELOQUENT BOOKS</td>\n",
              "      <td>YFC</td>\n",
              "      <td>[YFG,YFH]</td>\n",
              "    </tr>\n",
              "    <tr>\n",
              "      <th>78029</th>\n",
              "      <td>68789</td>\n",
              "      <td>The Light Voyager</td>\n",
              "      <td>Orlando Mardi Orlando</td>\n",
              "      <td>Trafford Publishing</td>\n",
              "      <td>FL</td>\n",
              "      <td>[]</td>\n",
              "    </tr>\n",
              "  </tbody>\n",
              "</table>\n",
              "<p>78030 rows × 6 columns</p>\n",
              "</div>"
            ],
            "text/plain": [
              "       itemID  ...                      subtopics\n",
              "0       21310  ...                          [5AH]\n",
              "1       73018  ...  [5AJ,AGZ,WFA,YBG,YBL,YNA,YPA]\n",
              "2       19194  ...                      [5AP,FBA]\n",
              "3       40250  ...           [5AC,5AD,YBG,YBL,YF]\n",
              "4       46107  ...   [WD,WFTM,YBG,YBL,YBLD,YBLN1]\n",
              "...       ...  ...                            ...\n",
              "78025   37678  ...                          [YFJ]\n",
              "78026   68688  ...                             []\n",
              "78027   57291  ...                             []\n",
              "78028   78130  ...                      [YFG,YFH]\n",
              "78029   68789  ...                             []\n",
              "\n",
              "[78030 rows x 6 columns]"
            ]
          },
          "metadata": {
            "tags": []
          },
          "execution_count": 16
        }
      ]
    },
    {
      "cell_type": "code",
      "metadata": {
        "colab": {
          "base_uri": "https://localhost:8080/",
          "height": 424
        },
        "id": "hjar2JduM7Ql",
        "outputId": "f48bcbe3-07e8-43cf-92c0-5a25a9c233d1"
      },
      "source": [
        "tr"
      ],
      "execution_count": null,
      "outputs": [
        {
          "output_type": "execute_result",
          "data": {
            "text/html": [
              "<div>\n",
              "<style scoped>\n",
              "    .dataframe tbody tr th:only-of-type {\n",
              "        vertical-align: middle;\n",
              "    }\n",
              "\n",
              "    .dataframe tbody tr th {\n",
              "        vertical-align: top;\n",
              "    }\n",
              "\n",
              "    .dataframe thead th {\n",
              "        text-align: right;\n",
              "    }\n",
              "</style>\n",
              "<table border=\"1\" class=\"dataframe\">\n",
              "  <thead>\n",
              "    <tr style=\"text-align: right;\">\n",
              "      <th></th>\n",
              "      <th>sessionID</th>\n",
              "      <th>itemID</th>\n",
              "      <th>click</th>\n",
              "      <th>basket</th>\n",
              "      <th>order</th>\n",
              "    </tr>\n",
              "  </thead>\n",
              "  <tbody>\n",
              "    <tr>\n",
              "      <th>0</th>\n",
              "      <td>0</td>\n",
              "      <td>21310</td>\n",
              "      <td>1</td>\n",
              "      <td>0</td>\n",
              "      <td>0</td>\n",
              "    </tr>\n",
              "    <tr>\n",
              "      <th>1</th>\n",
              "      <td>1</td>\n",
              "      <td>73018</td>\n",
              "      <td>1</td>\n",
              "      <td>0</td>\n",
              "      <td>0</td>\n",
              "    </tr>\n",
              "    <tr>\n",
              "      <th>2</th>\n",
              "      <td>2</td>\n",
              "      <td>19194</td>\n",
              "      <td>1</td>\n",
              "      <td>0</td>\n",
              "      <td>0</td>\n",
              "    </tr>\n",
              "    <tr>\n",
              "      <th>3</th>\n",
              "      <td>3</td>\n",
              "      <td>40250</td>\n",
              "      <td>1</td>\n",
              "      <td>0</td>\n",
              "      <td>0</td>\n",
              "    </tr>\n",
              "    <tr>\n",
              "      <th>4</th>\n",
              "      <td>4</td>\n",
              "      <td>46107</td>\n",
              "      <td>1</td>\n",
              "      <td>0</td>\n",
              "      <td>0</td>\n",
              "    </tr>\n",
              "    <tr>\n",
              "      <th>...</th>\n",
              "      <td>...</td>\n",
              "      <td>...</td>\n",
              "      <td>...</td>\n",
              "      <td>...</td>\n",
              "      <td>...</td>\n",
              "    </tr>\n",
              "    <tr>\n",
              "      <th>365138</th>\n",
              "      <td>279351</td>\n",
              "      <td>70183</td>\n",
              "      <td>1</td>\n",
              "      <td>0</td>\n",
              "      <td>0</td>\n",
              "    </tr>\n",
              "    <tr>\n",
              "      <th>365139</th>\n",
              "      <td>279352</td>\n",
              "      <td>39716</td>\n",
              "      <td>1</td>\n",
              "      <td>0</td>\n",
              "      <td>0</td>\n",
              "    </tr>\n",
              "    <tr>\n",
              "      <th>365140</th>\n",
              "      <td>279353</td>\n",
              "      <td>35260</td>\n",
              "      <td>1</td>\n",
              "      <td>0</td>\n",
              "      <td>0</td>\n",
              "    </tr>\n",
              "    <tr>\n",
              "      <th>365141</th>\n",
              "      <td>279353</td>\n",
              "      <td>18805</td>\n",
              "      <td>4</td>\n",
              "      <td>0</td>\n",
              "      <td>0</td>\n",
              "    </tr>\n",
              "    <tr>\n",
              "      <th>365142</th>\n",
              "      <td>279354</td>\n",
              "      <td>3083</td>\n",
              "      <td>1</td>\n",
              "      <td>0</td>\n",
              "      <td>0</td>\n",
              "    </tr>\n",
              "  </tbody>\n",
              "</table>\n",
              "<p>365143 rows × 5 columns</p>\n",
              "</div>"
            ],
            "text/plain": [
              "        sessionID  itemID  click  basket  order\n",
              "0               0   21310      1       0      0\n",
              "1               1   73018      1       0      0\n",
              "2               2   19194      1       0      0\n",
              "3               3   40250      1       0      0\n",
              "4               4   46107      1       0      0\n",
              "...           ...     ...    ...     ...    ...\n",
              "365138     279351   70183      1       0      0\n",
              "365139     279352   39716      1       0      0\n",
              "365140     279353   35260      1       0      0\n",
              "365141     279353   18805      4       0      0\n",
              "365142     279354    3083      1       0      0\n",
              "\n",
              "[365143 rows x 5 columns]"
            ]
          },
          "metadata": {
            "tags": []
          },
          "execution_count": 17
        }
      ]
    },
    {
      "cell_type": "code",
      "metadata": {
        "colab": {
          "base_uri": "https://localhost:8080/",
          "height": 424
        },
        "id": "-0foSzYsM8S2",
        "outputId": "7c3e20c1-23f1-45b4-c00d-8ebf0146db93"
      },
      "source": [
        "eval"
      ],
      "execution_count": null,
      "outputs": [
        {
          "output_type": "execute_result",
          "data": {
            "text/html": [
              "<div>\n",
              "<style scoped>\n",
              "    .dataframe tbody tr th:only-of-type {\n",
              "        vertical-align: middle;\n",
              "    }\n",
              "\n",
              "    .dataframe tbody tr th {\n",
              "        vertical-align: top;\n",
              "    }\n",
              "\n",
              "    .dataframe thead th {\n",
              "        text-align: right;\n",
              "    }\n",
              "</style>\n",
              "<table border=\"1\" class=\"dataframe\">\n",
              "  <thead>\n",
              "    <tr style=\"text-align: right;\">\n",
              "      <th></th>\n",
              "      <th>itemID</th>\n",
              "    </tr>\n",
              "  </thead>\n",
              "  <tbody>\n",
              "    <tr>\n",
              "      <th>0</th>\n",
              "      <td>12</td>\n",
              "    </tr>\n",
              "    <tr>\n",
              "      <th>1</th>\n",
              "      <td>45274</td>\n",
              "    </tr>\n",
              "    <tr>\n",
              "      <th>2</th>\n",
              "      <td>10104</td>\n",
              "    </tr>\n",
              "    <tr>\n",
              "      <th>3</th>\n",
              "      <td>41371</td>\n",
              "    </tr>\n",
              "    <tr>\n",
              "      <th>4</th>\n",
              "      <td>14015</td>\n",
              "    </tr>\n",
              "    <tr>\n",
              "      <th>...</th>\n",
              "      <td>...</td>\n",
              "    </tr>\n",
              "    <tr>\n",
              "      <th>995</th>\n",
              "      <td>78384</td>\n",
              "    </tr>\n",
              "    <tr>\n",
              "      <th>996</th>\n",
              "      <td>68157</td>\n",
              "    </tr>\n",
              "    <tr>\n",
              "      <th>997</th>\n",
              "      <td>44964</td>\n",
              "    </tr>\n",
              "    <tr>\n",
              "      <th>998</th>\n",
              "      <td>12971</td>\n",
              "    </tr>\n",
              "    <tr>\n",
              "      <th>999</th>\n",
              "      <td>41078</td>\n",
              "    </tr>\n",
              "  </tbody>\n",
              "</table>\n",
              "<p>1000 rows × 1 columns</p>\n",
              "</div>"
            ],
            "text/plain": [
              "     itemID\n",
              "0        12\n",
              "1     45274\n",
              "2     10104\n",
              "3     41371\n",
              "4     14015\n",
              "..      ...\n",
              "995   78384\n",
              "996   68157\n",
              "997   44964\n",
              "998   12971\n",
              "999   41078\n",
              "\n",
              "[1000 rows x 1 columns]"
            ]
          },
          "metadata": {
            "tags": []
          },
          "execution_count": 18
        }
      ]
    },
    {
      "cell_type": "code",
      "metadata": {
        "colab": {
          "base_uri": "https://localhost:8080/",
          "height": 528
        },
        "id": "MyVllJDGOIZz",
        "outputId": "e05b545c-8b1d-4671-cf01-5b3043fa5b04"
      },
      "source": [
        "df = pd.merge(item,tr, on='itemID', how='inner')\n",
        "df"
      ],
      "execution_count": null,
      "outputs": [
        {
          "output_type": "execute_result",
          "data": {
            "text/html": [
              "<div>\n",
              "<style scoped>\n",
              "    .dataframe tbody tr th:only-of-type {\n",
              "        vertical-align: middle;\n",
              "    }\n",
              "\n",
              "    .dataframe tbody tr th {\n",
              "        vertical-align: top;\n",
              "    }\n",
              "\n",
              "    .dataframe thead th {\n",
              "        text-align: right;\n",
              "    }\n",
              "</style>\n",
              "<table border=\"1\" class=\"dataframe\">\n",
              "  <thead>\n",
              "    <tr style=\"text-align: right;\">\n",
              "      <th></th>\n",
              "      <th>itemID</th>\n",
              "      <th>title</th>\n",
              "      <th>author</th>\n",
              "      <th>publisher</th>\n",
              "      <th>main topic</th>\n",
              "      <th>subtopics</th>\n",
              "      <th>sessionID</th>\n",
              "      <th>click</th>\n",
              "      <th>basket</th>\n",
              "      <th>order</th>\n",
              "    </tr>\n",
              "  </thead>\n",
              "  <tbody>\n",
              "    <tr>\n",
              "      <th>0</th>\n",
              "      <td>21310</td>\n",
              "      <td>Princess Poppy: The Big Mix Up</td>\n",
              "      <td>Janey Louise Jones</td>\n",
              "      <td>Penguin Random House Children's UK</td>\n",
              "      <td>YFB</td>\n",
              "      <td>[5AH]</td>\n",
              "      <td>0</td>\n",
              "      <td>1</td>\n",
              "      <td>0</td>\n",
              "      <td>0</td>\n",
              "    </tr>\n",
              "    <tr>\n",
              "      <th>1</th>\n",
              "      <td>21310</td>\n",
              "      <td>Princess Poppy: The Big Mix Up</td>\n",
              "      <td>Janey Louise Jones</td>\n",
              "      <td>Penguin Random House Children's UK</td>\n",
              "      <td>YFB</td>\n",
              "      <td>[5AH]</td>\n",
              "      <td>89272</td>\n",
              "      <td>1</td>\n",
              "      <td>0</td>\n",
              "      <td>0</td>\n",
              "    </tr>\n",
              "    <tr>\n",
              "      <th>2</th>\n",
              "      <td>21310</td>\n",
              "      <td>Princess Poppy: The Big Mix Up</td>\n",
              "      <td>Janey Louise Jones</td>\n",
              "      <td>Penguin Random House Children's UK</td>\n",
              "      <td>YFB</td>\n",
              "      <td>[5AH]</td>\n",
              "      <td>183856</td>\n",
              "      <td>1</td>\n",
              "      <td>0</td>\n",
              "      <td>0</td>\n",
              "    </tr>\n",
              "    <tr>\n",
              "      <th>3</th>\n",
              "      <td>73018</td>\n",
              "      <td>Einfach zeichnen! Step by Step</td>\n",
              "      <td>Wiebke Krabbe</td>\n",
              "      <td>Schwager und Steinlein</td>\n",
              "      <td>AGZ</td>\n",
              "      <td>[5AJ,AGZ,WFA,YBG,YBL,YNA,YPA]</td>\n",
              "      <td>1</td>\n",
              "      <td>1</td>\n",
              "      <td>0</td>\n",
              "      <td>0</td>\n",
              "    </tr>\n",
              "    <tr>\n",
              "      <th>4</th>\n",
              "      <td>73018</td>\n",
              "      <td>Einfach zeichnen! Step by Step</td>\n",
              "      <td>Wiebke Krabbe</td>\n",
              "      <td>Schwager und Steinlein</td>\n",
              "      <td>AGZ</td>\n",
              "      <td>[5AJ,AGZ,WFA,YBG,YBL,YNA,YPA]</td>\n",
              "      <td>771</td>\n",
              "      <td>1</td>\n",
              "      <td>0</td>\n",
              "      <td>0</td>\n",
              "    </tr>\n",
              "    <tr>\n",
              "      <th>...</th>\n",
              "      <td>...</td>\n",
              "      <td>...</td>\n",
              "      <td>...</td>\n",
              "      <td>...</td>\n",
              "      <td>...</td>\n",
              "      <td>...</td>\n",
              "      <td>...</td>\n",
              "      <td>...</td>\n",
              "      <td>...</td>\n",
              "      <td>...</td>\n",
              "    </tr>\n",
              "    <tr>\n",
              "      <th>365138</th>\n",
              "      <td>21264</td>\n",
              "      <td>Soon</td>\n",
              "      <td>Morris Gleitzman</td>\n",
              "      <td>Penguin Random House Children's UK</td>\n",
              "      <td>YFN</td>\n",
              "      <td>[5AL]</td>\n",
              "      <td>279176</td>\n",
              "      <td>1</td>\n",
              "      <td>0</td>\n",
              "      <td>0</td>\n",
              "    </tr>\n",
              "    <tr>\n",
              "      <th>365139</th>\n",
              "      <td>22297</td>\n",
              "      <td>Warum? Fragen u. Antworten f. Kleinkinder - In...</td>\n",
              "      <td>NaN</td>\n",
              "      <td>Yo Yo Books</td>\n",
              "      <td>YBC</td>\n",
              "      <td>[YBL]</td>\n",
              "      <td>279210</td>\n",
              "      <td>1</td>\n",
              "      <td>0</td>\n",
              "      <td>0</td>\n",
              "    </tr>\n",
              "    <tr>\n",
              "      <th>365140</th>\n",
              "      <td>56041</td>\n",
              "      <td>Tesla</td>\n",
              "      <td>Mark Lingane</td>\n",
              "      <td>Insync Holdings Pty Ltd</td>\n",
              "      <td>FLM</td>\n",
              "      <td>[]</td>\n",
              "      <td>279248</td>\n",
              "      <td>1</td>\n",
              "      <td>0</td>\n",
              "      <td>0</td>\n",
              "    </tr>\n",
              "    <tr>\n",
              "      <th>365141</th>\n",
              "      <td>67832</td>\n",
              "      <td>Hexenherz. Glühender Hass</td>\n",
              "      <td>Monika Loerchner</td>\n",
              "      <td>Acabus Verlag</td>\n",
              "      <td>FMH</td>\n",
              "      <td>[1D,FMH,FMR]</td>\n",
              "      <td>279343</td>\n",
              "      <td>2</td>\n",
              "      <td>0</td>\n",
              "      <td>0</td>\n",
              "    </tr>\n",
              "    <tr>\n",
              "      <th>365142</th>\n",
              "      <td>73084</td>\n",
              "      <td>Everybody Sees the Ants</td>\n",
              "      <td>A. S. King</td>\n",
              "      <td>LITTLE BROWN &amp; CO</td>\n",
              "      <td>YXQF</td>\n",
              "      <td>[YF,YXD,YXE]</td>\n",
              "      <td>279350</td>\n",
              "      <td>1</td>\n",
              "      <td>0</td>\n",
              "      <td>0</td>\n",
              "    </tr>\n",
              "  </tbody>\n",
              "</table>\n",
              "<p>365143 rows × 10 columns</p>\n",
              "</div>"
            ],
            "text/plain": [
              "        itemID  ... order\n",
              "0        21310  ...     0\n",
              "1        21310  ...     0\n",
              "2        21310  ...     0\n",
              "3        73018  ...     0\n",
              "4        73018  ...     0\n",
              "...        ...  ...   ...\n",
              "365138   21264  ...     0\n",
              "365139   22297  ...     0\n",
              "365140   56041  ...     0\n",
              "365141   67832  ...     0\n",
              "365142   73084  ...     0\n",
              "\n",
              "[365143 rows x 10 columns]"
            ]
          },
          "metadata": {
            "tags": []
          },
          "execution_count": 19
        }
      ]
    },
    {
      "cell_type": "code",
      "metadata": {
        "colab": {
          "base_uri": "https://localhost:8080/",
          "height": 424
        },
        "id": "1KfXhlFIOac2",
        "outputId": "7ec4a4f1-5bde-40f8-9de9-9f7a0b132b94"
      },
      "source": [
        "df.drop_duplicates(subset =\"itemID\",\n",
        "                     keep = False, inplace = True)\n",
        "df"
      ],
      "execution_count": null,
      "outputs": [
        {
          "output_type": "execute_result",
          "data": {
            "text/html": [
              "<div>\n",
              "<style scoped>\n",
              "    .dataframe tbody tr th:only-of-type {\n",
              "        vertical-align: middle;\n",
              "    }\n",
              "\n",
              "    .dataframe tbody tr th {\n",
              "        vertical-align: top;\n",
              "    }\n",
              "\n",
              "    .dataframe thead th {\n",
              "        text-align: right;\n",
              "    }\n",
              "</style>\n",
              "<table border=\"1\" class=\"dataframe\">\n",
              "  <thead>\n",
              "    <tr style=\"text-align: right;\">\n",
              "      <th></th>\n",
              "      <th>itemID</th>\n",
              "      <th>title</th>\n",
              "      <th>author</th>\n",
              "      <th>publisher</th>\n",
              "      <th>main topic</th>\n",
              "      <th>subtopics</th>\n",
              "      <th>sessionID</th>\n",
              "      <th>click</th>\n",
              "      <th>basket</th>\n",
              "      <th>order</th>\n",
              "    </tr>\n",
              "  </thead>\n",
              "  <tbody>\n",
              "    <tr>\n",
              "      <th>14235</th>\n",
              "      <td>23115</td>\n",
              "      <td>Rune</td>\n",
              "      <td>Inka Loreen Minden</td>\n",
              "      <td>Books on Demand</td>\n",
              "      <td>FFJ</td>\n",
              "      <td>[5PSG,FFJ,FMR,FRD]</td>\n",
              "      <td>68</td>\n",
              "      <td>1</td>\n",
              "      <td>0</td>\n",
              "      <td>0</td>\n",
              "    </tr>\n",
              "    <tr>\n",
              "      <th>15829</th>\n",
              "      <td>40949</td>\n",
              "      <td>Der siebte Sohn</td>\n",
              "      <td>Julia Maar</td>\n",
              "      <td>NOVA MD</td>\n",
              "      <td>DSY</td>\n",
              "      <td>[DSY,FMH,FN,FYR,YFH,YFM]</td>\n",
              "      <td>78</td>\n",
              "      <td>1</td>\n",
              "      <td>0</td>\n",
              "      <td>0</td>\n",
              "    </tr>\n",
              "    <tr>\n",
              "      <th>26193</th>\n",
              "      <td>69702</td>\n",
              "      <td>Fae - The Sins of the Wyrde</td>\n",
              "      <td>Graham Austin-King</td>\n",
              "      <td>Fallen Leaf Press</td>\n",
              "      <td>FM</td>\n",
              "      <td>[]</td>\n",
              "      <td>116</td>\n",
              "      <td>1</td>\n",
              "      <td>0</td>\n",
              "      <td>0</td>\n",
              "    </tr>\n",
              "    <tr>\n",
              "      <th>37813</th>\n",
              "      <td>43285</td>\n",
              "      <td>The Haunting of Peligan City</td>\n",
              "      <td>Sophie Green</td>\n",
              "      <td>Templar Publishing</td>\n",
              "      <td>YFB</td>\n",
              "      <td>[]</td>\n",
              "      <td>192</td>\n",
              "      <td>1</td>\n",
              "      <td>0</td>\n",
              "      <td>0</td>\n",
              "    </tr>\n",
              "    <tr>\n",
              "      <th>38071</th>\n",
              "      <td>11646</td>\n",
              "      <td>Cupid of Campion</td>\n",
              "      <td>Rev. Francis J Finn</td>\n",
              "      <td>St. Augustine Academy Press</td>\n",
              "      <td>YFC</td>\n",
              "      <td>[5PGM,YFK]</td>\n",
              "      <td>198</td>\n",
              "      <td>1</td>\n",
              "      <td>0</td>\n",
              "      <td>0</td>\n",
              "    </tr>\n",
              "    <tr>\n",
              "      <th>...</th>\n",
              "      <td>...</td>\n",
              "      <td>...</td>\n",
              "      <td>...</td>\n",
              "      <td>...</td>\n",
              "      <td>...</td>\n",
              "      <td>...</td>\n",
              "      <td>...</td>\n",
              "      <td>...</td>\n",
              "      <td>...</td>\n",
              "      <td>...</td>\n",
              "    </tr>\n",
              "    <tr>\n",
              "      <th>365138</th>\n",
              "      <td>21264</td>\n",
              "      <td>Soon</td>\n",
              "      <td>Morris Gleitzman</td>\n",
              "      <td>Penguin Random House Children's UK</td>\n",
              "      <td>YFN</td>\n",
              "      <td>[5AL]</td>\n",
              "      <td>279176</td>\n",
              "      <td>1</td>\n",
              "      <td>0</td>\n",
              "      <td>0</td>\n",
              "    </tr>\n",
              "    <tr>\n",
              "      <th>365139</th>\n",
              "      <td>22297</td>\n",
              "      <td>Warum? Fragen u. Antworten f. Kleinkinder - In...</td>\n",
              "      <td>NaN</td>\n",
              "      <td>Yo Yo Books</td>\n",
              "      <td>YBC</td>\n",
              "      <td>[YBL]</td>\n",
              "      <td>279210</td>\n",
              "      <td>1</td>\n",
              "      <td>0</td>\n",
              "      <td>0</td>\n",
              "    </tr>\n",
              "    <tr>\n",
              "      <th>365140</th>\n",
              "      <td>56041</td>\n",
              "      <td>Tesla</td>\n",
              "      <td>Mark Lingane</td>\n",
              "      <td>Insync Holdings Pty Ltd</td>\n",
              "      <td>FLM</td>\n",
              "      <td>[]</td>\n",
              "      <td>279248</td>\n",
              "      <td>1</td>\n",
              "      <td>0</td>\n",
              "      <td>0</td>\n",
              "    </tr>\n",
              "    <tr>\n",
              "      <th>365141</th>\n",
              "      <td>67832</td>\n",
              "      <td>Hexenherz. Glühender Hass</td>\n",
              "      <td>Monika Loerchner</td>\n",
              "      <td>Acabus Verlag</td>\n",
              "      <td>FMH</td>\n",
              "      <td>[1D,FMH,FMR]</td>\n",
              "      <td>279343</td>\n",
              "      <td>2</td>\n",
              "      <td>0</td>\n",
              "      <td>0</td>\n",
              "    </tr>\n",
              "    <tr>\n",
              "      <th>365142</th>\n",
              "      <td>73084</td>\n",
              "      <td>Everybody Sees the Ants</td>\n",
              "      <td>A. S. King</td>\n",
              "      <td>LITTLE BROWN &amp; CO</td>\n",
              "      <td>YXQF</td>\n",
              "      <td>[YF,YXD,YXE]</td>\n",
              "      <td>279350</td>\n",
              "      <td>1</td>\n",
              "      <td>0</td>\n",
              "      <td>0</td>\n",
              "    </tr>\n",
              "  </tbody>\n",
              "</table>\n",
              "<p>7492 rows × 10 columns</p>\n",
              "</div>"
            ],
            "text/plain": [
              "        itemID  ... order\n",
              "14235    23115  ...     0\n",
              "15829    40949  ...     0\n",
              "26193    69702  ...     0\n",
              "37813    43285  ...     0\n",
              "38071    11646  ...     0\n",
              "...        ...  ...   ...\n",
              "365138   21264  ...     0\n",
              "365139   22297  ...     0\n",
              "365140   56041  ...     0\n",
              "365141   67832  ...     0\n",
              "365142   73084  ...     0\n",
              "\n",
              "[7492 rows x 10 columns]"
            ]
          },
          "metadata": {
            "tags": []
          },
          "execution_count": 20
        }
      ]
    },
    {
      "cell_type": "code",
      "metadata": {
        "colab": {
          "base_uri": "https://localhost:8080/"
        },
        "id": "nYifB-lrM32u",
        "outputId": "a084ffa8-2205-4820-cbfa-a56fc1dec873"
      },
      "source": [
        "df.dropna(axis=0,inplace=True)\n",
        "df.isnull().sum()"
      ],
      "execution_count": null,
      "outputs": [
        {
          "output_type": "execute_result",
          "data": {
            "text/plain": [
              "itemID        0\n",
              "title         0\n",
              "author        0\n",
              "publisher     0\n",
              "main topic    0\n",
              "subtopics     0\n",
              "sessionID     0\n",
              "click         0\n",
              "basket        0\n",
              "order         0\n",
              "dtype: int64"
            ]
          },
          "metadata": {
            "tags": []
          },
          "execution_count": 21
        }
      ]
    },
    {
      "cell_type": "code",
      "metadata": {
        "colab": {
          "base_uri": "https://localhost:8080/",
          "height": 432
        },
        "id": "q43xQ5Z6Nkwg",
        "outputId": "f35290f3-b98d-4614-8f4c-0b56932f2fba"
      },
      "source": [
        "df.head(10)"
      ],
      "execution_count": null,
      "outputs": [
        {
          "output_type": "execute_result",
          "data": {
            "text/html": [
              "<div>\n",
              "<style scoped>\n",
              "    .dataframe tbody tr th:only-of-type {\n",
              "        vertical-align: middle;\n",
              "    }\n",
              "\n",
              "    .dataframe tbody tr th {\n",
              "        vertical-align: top;\n",
              "    }\n",
              "\n",
              "    .dataframe thead th {\n",
              "        text-align: right;\n",
              "    }\n",
              "</style>\n",
              "<table border=\"1\" class=\"dataframe\">\n",
              "  <thead>\n",
              "    <tr style=\"text-align: right;\">\n",
              "      <th></th>\n",
              "      <th>itemID</th>\n",
              "      <th>title</th>\n",
              "      <th>author</th>\n",
              "      <th>publisher</th>\n",
              "      <th>main topic</th>\n",
              "      <th>subtopics</th>\n",
              "      <th>sessionID</th>\n",
              "      <th>click</th>\n",
              "      <th>basket</th>\n",
              "      <th>order</th>\n",
              "    </tr>\n",
              "  </thead>\n",
              "  <tbody>\n",
              "    <tr>\n",
              "      <th>14235</th>\n",
              "      <td>23115</td>\n",
              "      <td>Rune</td>\n",
              "      <td>Inka Loreen Minden</td>\n",
              "      <td>Books on Demand</td>\n",
              "      <td>FFJ</td>\n",
              "      <td>[5PSG,FFJ,FMR,FRD]</td>\n",
              "      <td>68</td>\n",
              "      <td>1</td>\n",
              "      <td>0</td>\n",
              "      <td>0</td>\n",
              "    </tr>\n",
              "    <tr>\n",
              "      <th>15829</th>\n",
              "      <td>40949</td>\n",
              "      <td>Der siebte Sohn</td>\n",
              "      <td>Julia Maar</td>\n",
              "      <td>NOVA MD</td>\n",
              "      <td>DSY</td>\n",
              "      <td>[DSY,FMH,FN,FYR,YFH,YFM]</td>\n",
              "      <td>78</td>\n",
              "      <td>1</td>\n",
              "      <td>0</td>\n",
              "      <td>0</td>\n",
              "    </tr>\n",
              "    <tr>\n",
              "      <th>26193</th>\n",
              "      <td>69702</td>\n",
              "      <td>Fae - The Sins of the Wyrde</td>\n",
              "      <td>Graham Austin-King</td>\n",
              "      <td>Fallen Leaf Press</td>\n",
              "      <td>FM</td>\n",
              "      <td>[]</td>\n",
              "      <td>116</td>\n",
              "      <td>1</td>\n",
              "      <td>0</td>\n",
              "      <td>0</td>\n",
              "    </tr>\n",
              "    <tr>\n",
              "      <th>37813</th>\n",
              "      <td>43285</td>\n",
              "      <td>The Haunting of Peligan City</td>\n",
              "      <td>Sophie Green</td>\n",
              "      <td>Templar Publishing</td>\n",
              "      <td>YFB</td>\n",
              "      <td>[]</td>\n",
              "      <td>192</td>\n",
              "      <td>1</td>\n",
              "      <td>0</td>\n",
              "      <td>0</td>\n",
              "    </tr>\n",
              "    <tr>\n",
              "      <th>38071</th>\n",
              "      <td>11646</td>\n",
              "      <td>Cupid of Campion</td>\n",
              "      <td>Rev. Francis J Finn</td>\n",
              "      <td>St. Augustine Academy Press</td>\n",
              "      <td>YFC</td>\n",
              "      <td>[5PGM,YFK]</td>\n",
              "      <td>198</td>\n",
              "      <td>1</td>\n",
              "      <td>0</td>\n",
              "      <td>0</td>\n",
              "    </tr>\n",
              "    <tr>\n",
              "      <th>51581</th>\n",
              "      <td>57845</td>\n",
              "      <td>Danny Dunn and the Anti-Gravity Paint</td>\n",
              "      <td>Raymond Abrashkin, Jay Williams</td>\n",
              "      <td>Agog Press</td>\n",
              "      <td>FL</td>\n",
              "      <td>[]</td>\n",
              "      <td>284</td>\n",
              "      <td>1</td>\n",
              "      <td>0</td>\n",
              "      <td>0</td>\n",
              "    </tr>\n",
              "    <tr>\n",
              "      <th>53623</th>\n",
              "      <td>28441</td>\n",
              "      <td>Dreaming about love-The Coming of the Angels-v...</td>\n",
              "      <td>Baicu Sorin Robert</td>\n",
              "      <td>Lulu Press, Inc.</td>\n",
              "      <td>FM</td>\n",
              "      <td>[]</td>\n",
              "      <td>296</td>\n",
              "      <td>1</td>\n",
              "      <td>0</td>\n",
              "      <td>0</td>\n",
              "    </tr>\n",
              "    <tr>\n",
              "      <th>58615</th>\n",
              "      <td>68253</td>\n",
              "      <td>Warriors: Omen of the Stars #3: Night Whispers</td>\n",
              "      <td>Erin Hunter</td>\n",
              "      <td>HarperCollins Publishers Inc</td>\n",
              "      <td>YFC</td>\n",
              "      <td>[YFG,YFP]</td>\n",
              "      <td>324</td>\n",
              "      <td>1</td>\n",
              "      <td>0</td>\n",
              "      <td>0</td>\n",
              "    </tr>\n",
              "    <tr>\n",
              "      <th>59083</th>\n",
              "      <td>14909</td>\n",
              "      <td>Poeti shqiptar</td>\n",
              "      <td>Irena Gjoni</td>\n",
              "      <td>Lulu.com</td>\n",
              "      <td>FL</td>\n",
              "      <td>[]</td>\n",
              "      <td>326</td>\n",
              "      <td>1</td>\n",
              "      <td>0</td>\n",
              "      <td>0</td>\n",
              "    </tr>\n",
              "    <tr>\n",
              "      <th>61961</th>\n",
              "      <td>11569</td>\n",
              "      <td>You're the One that I Want</td>\n",
              "      <td>Simon James Green</td>\n",
              "      <td>Scholastic</td>\n",
              "      <td>YXHL</td>\n",
              "      <td>[YFB,YFM,YFN,YFQ,YXF]</td>\n",
              "      <td>339</td>\n",
              "      <td>1</td>\n",
              "      <td>0</td>\n",
              "      <td>0</td>\n",
              "    </tr>\n",
              "  </tbody>\n",
              "</table>\n",
              "</div>"
            ],
            "text/plain": [
              "       itemID                                              title  ... basket order\n",
              "14235   23115                                               Rune  ...      0     0\n",
              "15829   40949                                    Der siebte Sohn  ...      0     0\n",
              "26193   69702                        Fae - The Sins of the Wyrde  ...      0     0\n",
              "37813   43285                       The Haunting of Peligan City  ...      0     0\n",
              "38071   11646                                   Cupid of Campion  ...      0     0\n",
              "51581   57845              Danny Dunn and the Anti-Gravity Paint  ...      0     0\n",
              "53623   28441  Dreaming about love-The Coming of the Angels-v...  ...      0     0\n",
              "58615   68253     Warriors: Omen of the Stars #3: Night Whispers  ...      0     0\n",
              "59083   14909                                     Poeti shqiptar  ...      0     0\n",
              "61961   11569                         You're the One that I Want  ...      0     0\n",
              "\n",
              "[10 rows x 10 columns]"
            ]
          },
          "metadata": {
            "tags": []
          },
          "execution_count": 22
        }
      ]
    },
    {
      "cell_type": "markdown",
      "metadata": {
        "id": "PJbz3tPrd6WT"
      },
      "source": [
        "# Content Based"
      ]
    },
    {
      "cell_type": "code",
      "metadata": {
        "id": "omxNjcGkPdSy",
        "colab": {
          "base_uri": "https://localhost:8080/"
        },
        "outputId": "14d8b733-65c7-4e40-de12-e599cec4272d"
      },
      "source": [
        "# let's check up the title to determine what to process in the string\n",
        "df['title']"
      ],
      "execution_count": null,
      "outputs": [
        {
          "output_type": "execute_result",
          "data": {
            "text/plain": [
              "14235                             Rune\n",
              "15829                  Der siebte Sohn\n",
              "26193      Fae - The Sins of the Wyrde\n",
              "37813     The Haunting of Peligan City\n",
              "38071                 Cupid of Campion\n",
              "                      ...             \n",
              "365137                  Beasts of Prey\n",
              "365138                            Soon\n",
              "365140                           Tesla\n",
              "365141       Hexenherz. Glühender Hass\n",
              "365142         Everybody Sees the Ants\n",
              "Name: title, Length: 7144, dtype: object"
            ]
          },
          "metadata": {
            "tags": []
          },
          "execution_count": 23
        }
      ]
    },
    {
      "cell_type": "code",
      "metadata": {
        "id": "1noDdhBkQHWo",
        "colab": {
          "base_uri": "https://localhost:8080/"
        },
        "outputId": "24227607-7e49-4513-c156-173f507acf36"
      },
      "source": [
        "df.shape"
      ],
      "execution_count": null,
      "outputs": [
        {
          "output_type": "execute_result",
          "data": {
            "text/plain": [
              "(7144, 10)"
            ]
          },
          "metadata": {
            "tags": []
          },
          "execution_count": 24
        }
      ]
    },
    {
      "cell_type": "code",
      "metadata": {
        "id": "G6gjup8uQQsR",
        "colab": {
          "base_uri": "https://localhost:8080/"
        },
        "outputId": "7ce6eb1a-439c-46e1-df10-de053bb0c389"
      },
      "source": [
        "df['main topic']"
      ],
      "execution_count": null,
      "outputs": [
        {
          "output_type": "execute_result",
          "data": {
            "text/plain": [
              "14235      FFJ\n",
              "15829      DSY\n",
              "26193       FM\n",
              "37813      YFB\n",
              "38071      YFC\n",
              "          ... \n",
              "365137     YFH\n",
              "365138     YFN\n",
              "365140     FLM\n",
              "365141     FMH\n",
              "365142    YXQF\n",
              "Name: main topic, Length: 7144, dtype: object"
            ]
          },
          "metadata": {
            "tags": []
          },
          "execution_count": 25
        }
      ]
    },
    {
      "cell_type": "code",
      "metadata": {
        "id": "ixm6v6V7uijR"
      },
      "source": [
        "df['subtopics'] = df['subtopics'].astype(str).str.replace(r'\\[|\\]|,', '')"
      ],
      "execution_count": null,
      "outputs": []
    },
    {
      "cell_type": "code",
      "metadata": {
        "id": "JP_q28LAQjaR",
        "colab": {
          "base_uri": "https://localhost:8080/",
          "height": 310
        },
        "outputId": "61d7e2aa-7f37-4372-8d63-d205ea674dfa"
      },
      "source": [
        "#I have thought of processing all the strings together. So joined all of them to product details column and dropped the used \n",
        "# columns\n",
        "df['product_details'] = df['author']+' '+ df['main topic'] + ' ' + df['subtopics']\n",
        "#df.drop(columns = ['title', 'main topic', 'subtopics'],inplace=True)\n",
        "df.head()"
      ],
      "execution_count": null,
      "outputs": [
        {
          "output_type": "execute_result",
          "data": {
            "text/html": [
              "<div>\n",
              "<style scoped>\n",
              "    .dataframe tbody tr th:only-of-type {\n",
              "        vertical-align: middle;\n",
              "    }\n",
              "\n",
              "    .dataframe tbody tr th {\n",
              "        vertical-align: top;\n",
              "    }\n",
              "\n",
              "    .dataframe thead th {\n",
              "        text-align: right;\n",
              "    }\n",
              "</style>\n",
              "<table border=\"1\" class=\"dataframe\">\n",
              "  <thead>\n",
              "    <tr style=\"text-align: right;\">\n",
              "      <th></th>\n",
              "      <th>itemID</th>\n",
              "      <th>title</th>\n",
              "      <th>author</th>\n",
              "      <th>publisher</th>\n",
              "      <th>main topic</th>\n",
              "      <th>subtopics</th>\n",
              "      <th>sessionID</th>\n",
              "      <th>click</th>\n",
              "      <th>basket</th>\n",
              "      <th>order</th>\n",
              "      <th>product_details</th>\n",
              "    </tr>\n",
              "  </thead>\n",
              "  <tbody>\n",
              "    <tr>\n",
              "      <th>14235</th>\n",
              "      <td>23115</td>\n",
              "      <td>Rune</td>\n",
              "      <td>Inka Loreen Minden</td>\n",
              "      <td>Books on Demand</td>\n",
              "      <td>FFJ</td>\n",
              "      <td>5PSGFFJFMRFRD</td>\n",
              "      <td>68</td>\n",
              "      <td>1</td>\n",
              "      <td>0</td>\n",
              "      <td>0</td>\n",
              "      <td>Inka Loreen Minden FFJ 5PSGFFJFMRFRD</td>\n",
              "    </tr>\n",
              "    <tr>\n",
              "      <th>15829</th>\n",
              "      <td>40949</td>\n",
              "      <td>Der siebte Sohn</td>\n",
              "      <td>Julia Maar</td>\n",
              "      <td>NOVA MD</td>\n",
              "      <td>DSY</td>\n",
              "      <td>DSYFMHFNFYRYFHYFM</td>\n",
              "      <td>78</td>\n",
              "      <td>1</td>\n",
              "      <td>0</td>\n",
              "      <td>0</td>\n",
              "      <td>Julia Maar DSY DSYFMHFNFYRYFHYFM</td>\n",
              "    </tr>\n",
              "    <tr>\n",
              "      <th>26193</th>\n",
              "      <td>69702</td>\n",
              "      <td>Fae - The Sins of the Wyrde</td>\n",
              "      <td>Graham Austin-King</td>\n",
              "      <td>Fallen Leaf Press</td>\n",
              "      <td>FM</td>\n",
              "      <td></td>\n",
              "      <td>116</td>\n",
              "      <td>1</td>\n",
              "      <td>0</td>\n",
              "      <td>0</td>\n",
              "      <td>Graham Austin-King FM</td>\n",
              "    </tr>\n",
              "    <tr>\n",
              "      <th>37813</th>\n",
              "      <td>43285</td>\n",
              "      <td>The Haunting of Peligan City</td>\n",
              "      <td>Sophie Green</td>\n",
              "      <td>Templar Publishing</td>\n",
              "      <td>YFB</td>\n",
              "      <td></td>\n",
              "      <td>192</td>\n",
              "      <td>1</td>\n",
              "      <td>0</td>\n",
              "      <td>0</td>\n",
              "      <td>Sophie Green YFB</td>\n",
              "    </tr>\n",
              "    <tr>\n",
              "      <th>38071</th>\n",
              "      <td>11646</td>\n",
              "      <td>Cupid of Campion</td>\n",
              "      <td>Rev. Francis J Finn</td>\n",
              "      <td>St. Augustine Academy Press</td>\n",
              "      <td>YFC</td>\n",
              "      <td>5PGMYFK</td>\n",
              "      <td>198</td>\n",
              "      <td>1</td>\n",
              "      <td>0</td>\n",
              "      <td>0</td>\n",
              "      <td>Rev. Francis J Finn YFC 5PGMYFK</td>\n",
              "    </tr>\n",
              "  </tbody>\n",
              "</table>\n",
              "</div>"
            ],
            "text/plain": [
              "       itemID  ...                       product_details\n",
              "14235   23115  ...  Inka Loreen Minden FFJ 5PSGFFJFMRFRD\n",
              "15829   40949  ...      Julia Maar DSY DSYFMHFNFYRYFHYFM\n",
              "26193   69702  ...                Graham Austin-King FM \n",
              "37813   43285  ...                     Sophie Green YFB \n",
              "38071   11646  ...       Rev. Francis J Finn YFC 5PGMYFK\n",
              "\n",
              "[5 rows x 11 columns]"
            ]
          },
          "metadata": {
            "tags": []
          },
          "execution_count": 27
        }
      ]
    },
    {
      "cell_type": "code",
      "metadata": {
        "id": "5ObULcsjQ7FE",
        "colab": {
          "base_uri": "https://localhost:8080/",
          "height": 293
        },
        "outputId": "a361e4b4-8868-4dda-853f-5d0803e8ab4d"
      },
      "source": [
        "df['product_details'] = df['product_details'].str.lower()\n",
        "df.head()"
      ],
      "execution_count": null,
      "outputs": [
        {
          "output_type": "execute_result",
          "data": {
            "text/html": [
              "<div>\n",
              "<style scoped>\n",
              "    .dataframe tbody tr th:only-of-type {\n",
              "        vertical-align: middle;\n",
              "    }\n",
              "\n",
              "    .dataframe tbody tr th {\n",
              "        vertical-align: top;\n",
              "    }\n",
              "\n",
              "    .dataframe thead th {\n",
              "        text-align: right;\n",
              "    }\n",
              "</style>\n",
              "<table border=\"1\" class=\"dataframe\">\n",
              "  <thead>\n",
              "    <tr style=\"text-align: right;\">\n",
              "      <th></th>\n",
              "      <th>itemID</th>\n",
              "      <th>title</th>\n",
              "      <th>author</th>\n",
              "      <th>publisher</th>\n",
              "      <th>main topic</th>\n",
              "      <th>subtopics</th>\n",
              "      <th>sessionID</th>\n",
              "      <th>click</th>\n",
              "      <th>basket</th>\n",
              "      <th>order</th>\n",
              "      <th>product_details</th>\n",
              "    </tr>\n",
              "  </thead>\n",
              "  <tbody>\n",
              "    <tr>\n",
              "      <th>14235</th>\n",
              "      <td>23115</td>\n",
              "      <td>Rune</td>\n",
              "      <td>Inka Loreen Minden</td>\n",
              "      <td>Books on Demand</td>\n",
              "      <td>FFJ</td>\n",
              "      <td>5PSGFFJFMRFRD</td>\n",
              "      <td>68</td>\n",
              "      <td>1</td>\n",
              "      <td>0</td>\n",
              "      <td>0</td>\n",
              "      <td>inka loreen minden ffj 5psgffjfmrfrd</td>\n",
              "    </tr>\n",
              "    <tr>\n",
              "      <th>15829</th>\n",
              "      <td>40949</td>\n",
              "      <td>Der siebte Sohn</td>\n",
              "      <td>Julia Maar</td>\n",
              "      <td>NOVA MD</td>\n",
              "      <td>DSY</td>\n",
              "      <td>DSYFMHFNFYRYFHYFM</td>\n",
              "      <td>78</td>\n",
              "      <td>1</td>\n",
              "      <td>0</td>\n",
              "      <td>0</td>\n",
              "      <td>julia maar dsy dsyfmhfnfyryfhyfm</td>\n",
              "    </tr>\n",
              "    <tr>\n",
              "      <th>26193</th>\n",
              "      <td>69702</td>\n",
              "      <td>Fae - The Sins of the Wyrde</td>\n",
              "      <td>Graham Austin-King</td>\n",
              "      <td>Fallen Leaf Press</td>\n",
              "      <td>FM</td>\n",
              "      <td></td>\n",
              "      <td>116</td>\n",
              "      <td>1</td>\n",
              "      <td>0</td>\n",
              "      <td>0</td>\n",
              "      <td>graham austin-king fm</td>\n",
              "    </tr>\n",
              "    <tr>\n",
              "      <th>37813</th>\n",
              "      <td>43285</td>\n",
              "      <td>The Haunting of Peligan City</td>\n",
              "      <td>Sophie Green</td>\n",
              "      <td>Templar Publishing</td>\n",
              "      <td>YFB</td>\n",
              "      <td></td>\n",
              "      <td>192</td>\n",
              "      <td>1</td>\n",
              "      <td>0</td>\n",
              "      <td>0</td>\n",
              "      <td>sophie green yfb</td>\n",
              "    </tr>\n",
              "    <tr>\n",
              "      <th>38071</th>\n",
              "      <td>11646</td>\n",
              "      <td>Cupid of Campion</td>\n",
              "      <td>Rev. Francis J Finn</td>\n",
              "      <td>St. Augustine Academy Press</td>\n",
              "      <td>YFC</td>\n",
              "      <td>5PGMYFK</td>\n",
              "      <td>198</td>\n",
              "      <td>1</td>\n",
              "      <td>0</td>\n",
              "      <td>0</td>\n",
              "      <td>rev. francis j finn yfc 5pgmyfk</td>\n",
              "    </tr>\n",
              "  </tbody>\n",
              "</table>\n",
              "</div>"
            ],
            "text/plain": [
              "       itemID  ...                       product_details\n",
              "14235   23115  ...  inka loreen minden ffj 5psgffjfmrfrd\n",
              "15829   40949  ...      julia maar dsy dsyfmhfnfyryfhyfm\n",
              "26193   69702  ...                graham austin-king fm \n",
              "37813   43285  ...                     sophie green yfb \n",
              "38071   11646  ...       rev. francis j finn yfc 5pgmyfk\n",
              "\n",
              "[5 rows x 11 columns]"
            ]
          },
          "metadata": {
            "tags": []
          },
          "execution_count": 28
        }
      ]
    },
    {
      "cell_type": "code",
      "metadata": {
        "id": "b7lpdG7eRHBV",
        "colab": {
          "base_uri": "https://localhost:8080/"
        },
        "outputId": "218d8e1f-2d3f-4e1a-925e-410c82c1d77d"
      },
      "source": [
        "df.shape"
      ],
      "execution_count": null,
      "outputs": [
        {
          "output_type": "execute_result",
          "data": {
            "text/plain": [
              "(7144, 11)"
            ]
          },
          "metadata": {
            "tags": []
          },
          "execution_count": 29
        }
      ]
    },
    {
      "cell_type": "markdown",
      "metadata": {
        "id": "fQKk2EDYRP6S"
      },
      "source": [
        ""
      ]
    },
    {
      "cell_type": "code",
      "metadata": {
        "id": "j7GsTpKQRVGT"
      },
      "source": [
        "\n",
        "# so we are going to make a vector of words to make word to word n_gram and calculate cosine similarities\n",
        "from sklearn.feature_extraction.text import TfidfVectorizer\n",
        "from sklearn.metrics.pairwise import linear_kernel"
      ],
      "execution_count": null,
      "outputs": []
    },
    {
      "cell_type": "markdown",
      "metadata": {
        "id": "NWsg37jKZdtZ"
      },
      "source": [
        "https://heartbeat.fritz.ai/recommender-systems-with-python-part-i-content-based-filtering-5df4940bd831"
      ]
    },
    {
      "cell_type": "code",
      "metadata": {
        "id": "emk2x_lqZ6A9"
      },
      "source": [
        "tfv = TfidfVectorizer(min_df=3,  max_features=None, \n",
        "            strip_accents='unicode', analyzer='word',token_pattern=r'\\w{1,}',\n",
        "            ngram_range=(1, 3),\n",
        "            stop_words = 'english')\n",
        "\n",
        "# Filling NaNs with empty string\n",
        "df['product_details'] = df['product_details'].fillna('')"
      ],
      "execution_count": null,
      "outputs": []
    },
    {
      "cell_type": "code",
      "metadata": {
        "id": "fjws2YorTdKd",
        "colab": {
          "base_uri": "https://localhost:8080/"
        },
        "outputId": "801e43db-45c3-40a1-e16b-ed80910ba028"
      },
      "source": [
        "tfv_matrix = tfv.fit_transform(df['product_details'])\n",
        "tfv_matrix"
      ],
      "execution_count": null,
      "outputs": [
        {
          "output_type": "execute_result",
          "data": {
            "text/plain": [
              "<7144x2831 sparse matrix of type '<class 'numpy.float64'>'\n",
              "\twith 26232 stored elements in Compressed Sparse Row format>"
            ]
          },
          "metadata": {
            "tags": []
          },
          "execution_count": 32
        }
      ]
    },
    {
      "cell_type": "code",
      "metadata": {
        "id": "C22OhVQ7TkB9",
        "colab": {
          "base_uri": "https://localhost:8080/"
        },
        "outputId": "900f5c9d-6caf-4bcd-906e-1de9a04742db"
      },
      "source": [
        "tfv_matrix.shape"
      ],
      "execution_count": null,
      "outputs": [
        {
          "output_type": "execute_result",
          "data": {
            "text/plain": [
              "(7144, 2831)"
            ]
          },
          "metadata": {
            "tags": []
          },
          "execution_count": 33
        }
      ]
    },
    {
      "cell_type": "code",
      "metadata": {
        "id": "2iApYqAvT9yM"
      },
      "source": [
        "from sklearn.metrics.pairwise import sigmoid_kernel\n",
        "\n",
        "# Compute the sigmoid kernel\n",
        "sig = linear_kernel(tfv_matrix, tfv_matrix)"
      ],
      "execution_count": null,
      "outputs": []
    },
    {
      "cell_type": "code",
      "metadata": {
        "id": "E4dCmjOTu7bL",
        "colab": {
          "base_uri": "https://localhost:8080/",
          "height": 243
        },
        "outputId": "77c21e91-482a-4f55-ca1a-b6854b3ae0d8"
      },
      "source": [
        "results = {}\n",
        "for idx, row in df.iterrows():\n",
        "\n",
        "   similar_indices = sig[idx].argsort()[:-100:-1] \n",
        "   similar_items = [(sig[idx][i], df['itemID'][i]) for i in similar_indices] \n",
        "   results[row['itemID']] = similar_items[1:]\n",
        "  \n",
        "\n",
        "   "
      ],
      "execution_count": null,
      "outputs": [
        {
          "output_type": "error",
          "ename": "IndexError",
          "evalue": "ignored",
          "traceback": [
            "\u001b[0;31m---------------------------------------------------------------------------\u001b[0m",
            "\u001b[0;31mIndexError\u001b[0m                                Traceback (most recent call last)",
            "\u001b[0;32m<ipython-input-35-23e355318f9d>\u001b[0m in \u001b[0;36m<module>\u001b[0;34m()\u001b[0m\n\u001b[1;32m      2\u001b[0m \u001b[0;32mfor\u001b[0m \u001b[0midx\u001b[0m\u001b[0;34m,\u001b[0m \u001b[0mrow\u001b[0m \u001b[0;32min\u001b[0m \u001b[0mdf\u001b[0m\u001b[0;34m.\u001b[0m\u001b[0miterrows\u001b[0m\u001b[0;34m(\u001b[0m\u001b[0;34m)\u001b[0m\u001b[0;34m:\u001b[0m\u001b[0;34m\u001b[0m\u001b[0;34m\u001b[0m\u001b[0m\n\u001b[1;32m      3\u001b[0m \u001b[0;34m\u001b[0m\u001b[0m\n\u001b[0;32m----> 4\u001b[0;31m    \u001b[0msimilar_indices\u001b[0m \u001b[0;34m=\u001b[0m \u001b[0msig\u001b[0m\u001b[0;34m[\u001b[0m\u001b[0midx\u001b[0m\u001b[0;34m]\u001b[0m\u001b[0;34m.\u001b[0m\u001b[0margsort\u001b[0m\u001b[0;34m(\u001b[0m\u001b[0;34m)\u001b[0m\u001b[0;34m[\u001b[0m\u001b[0;34m:\u001b[0m\u001b[0;34m-\u001b[0m\u001b[0;36m100\u001b[0m\u001b[0;34m:\u001b[0m\u001b[0;34m-\u001b[0m\u001b[0;36m1\u001b[0m\u001b[0;34m]\u001b[0m\u001b[0;34m\u001b[0m\u001b[0;34m\u001b[0m\u001b[0m\n\u001b[0m\u001b[1;32m      5\u001b[0m    \u001b[0msimilar_items\u001b[0m \u001b[0;34m=\u001b[0m \u001b[0;34m[\u001b[0m\u001b[0;34m(\u001b[0m\u001b[0msig\u001b[0m\u001b[0;34m[\u001b[0m\u001b[0midx\u001b[0m\u001b[0;34m]\u001b[0m\u001b[0;34m[\u001b[0m\u001b[0mi\u001b[0m\u001b[0;34m]\u001b[0m\u001b[0;34m,\u001b[0m \u001b[0mdf\u001b[0m\u001b[0;34m[\u001b[0m\u001b[0;34m'itemID'\u001b[0m\u001b[0;34m]\u001b[0m\u001b[0;34m[\u001b[0m\u001b[0mi\u001b[0m\u001b[0;34m]\u001b[0m\u001b[0;34m)\u001b[0m \u001b[0;32mfor\u001b[0m \u001b[0mi\u001b[0m \u001b[0;32min\u001b[0m \u001b[0msimilar_indices\u001b[0m\u001b[0;34m]\u001b[0m\u001b[0;34m\u001b[0m\u001b[0;34m\u001b[0m\u001b[0m\n\u001b[1;32m      6\u001b[0m    \u001b[0mresults\u001b[0m\u001b[0;34m[\u001b[0m\u001b[0mrow\u001b[0m\u001b[0;34m[\u001b[0m\u001b[0;34m'itemID'\u001b[0m\u001b[0;34m]\u001b[0m\u001b[0;34m]\u001b[0m \u001b[0;34m=\u001b[0m \u001b[0msimilar_items\u001b[0m\u001b[0;34m[\u001b[0m\u001b[0;36m1\u001b[0m\u001b[0;34m:\u001b[0m\u001b[0;34m]\u001b[0m\u001b[0;34m\u001b[0m\u001b[0;34m\u001b[0m\u001b[0m\n",
            "\u001b[0;31mIndexError\u001b[0m: index 14235 is out of bounds for axis 0 with size 7144"
          ]
        }
      ]
    },
    {
      "cell_type": "code",
      "metadata": {
        "id": "vVve5Gf_5JFH"
      },
      "source": [
        "def item1(itemID):  \n",
        "  return df.loc[df['itemID'] == itemID]['itemID'].astype(str).tolist()[0].split(' - ')[0] \n",
        "# Just reads the results out of the dictionary.def \n"
      ],
      "execution_count": null,
      "outputs": []
    },
    {
      "cell_type": "code",
      "metadata": {
        "id": "J9DraxRnz3jY"
      },
      "source": [
        "evalList = eval['itemID'].tolist()"
      ],
      "execution_count": null,
      "outputs": []
    },
    {
      "cell_type": "code",
      "metadata": {
        "id": "8XwA-Gdg-Rap"
      },
      "source": [
        "def myFun(evaluation_list):\n",
        "  finalList = []\n",
        "  for i in evaluation_list:\n",
        "    try:\n",
        "      item_id1 = i\n",
        "      num = 10\n",
        "\n",
        "      recs = results[item_id1][:num]   \n",
        "      recomList = []\n",
        "      recomList.append(item_id1)\n",
        "      for rec in recs: \n",
        "        #print(\"Recommended: \" + item1(rec[1]) + \" (score:\" +      str(rec[0]) + \")\")\n",
        "        recomList.append(item1(rec[1]))\n",
        "      finalList.append(recomList)\n",
        "    except:\n",
        "      pass  \n",
        "\n",
        "  evalDf = pd.DataFrame(columns=['itemID', 'rec1', 'rec2','rec3','rec4','rec5','rec6','rec7','rec8','rec9','rec10'], data= finalList)\n",
        "  evalDf.to_csv('evaluationCalc.csv')"
      ],
      "execution_count": null,
      "outputs": []
    },
    {
      "cell_type": "code",
      "metadata": {
        "id": "2Xj9wd1YqZ5F"
      },
      "source": [
        "myFun(evalList)\n"
      ],
      "execution_count": null,
      "outputs": []
    }
  ]
}